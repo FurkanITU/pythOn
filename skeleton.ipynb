{
 "cells": [
  {
   "cell_type": "code",
   "execution_count": 4,
   "metadata": {},
   "outputs": [],
   "source": [
    "import numpy as np\n",
    "import math \n",
    "def createSquareSkeleton(size=100):\n",
    "    innerArray = np.zeros((size-2, size-2),dtype=int) \n",
    "    outerArray = np.ones((size,size), dtype=int) \n",
    "    outerArray[1:size-1, 1:size-1] = innerArray\n",
    "    return outerArray "
   ]
  },
  {
   "cell_type": "code",
   "execution_count": 5,
   "metadata": {},
   "outputs": [],
   "source": [
    " \n",
    "def createSkeletonSizedx(size=100, skeletonSize=1):\n",
    "    if skeletonSize == 0:\n",
    "        skeletonSize = 1\n",
    "    if size < skeletonSize * 2 + 1:\n",
    "        size = skeletonSize * 2 + 1\n",
    "    x=math.ceil(size/4)                     #math.floor(math.log2(size))\n",
    "    sayac=2\n",
    "    finalArray=createSquareSkeleton(size)\n",
    "    while(2*x>sayac):\n",
    "        \n",
    "        newArray=createSquareSkeleton(size-2*sayac*skeletonSize)\n",
    "        finalArray[sayac*skeletonSize:size-sayac*skeletonSize,sayac*skeletonSize:size-sayac*skeletonSize]=newArray\n",
    "        sayac+=2\n",
    "        \n",
    "    return finalArray \n"
   ]
  },
  {
   "cell_type": "code",
   "execution_count": 6,
   "metadata": {},
   "outputs": [
    {
     "data": {
      "text/plain": [
       "<matplotlib.image.AxesImage at 0x23d9945a460>"
      ]
     },
     "execution_count": 6,
     "metadata": {},
     "output_type": "execute_result"
    },
    {
     "data": {
      "image/png": "[encoded data removed]",
      "text/plain": [
       "<Figure size 432x288 with 1 Axes>"
      ]
     },
     "metadata": {
      "needs_background": "light"
     },
     "output_type": "display_data"
    }
   ],
   "source": [
    "import matplotlib.pyplot as plt\n",
    "skltn = createSkeletonSizedx(size=100, skeletonSize=1)\n",
    "plt.imshow(skltn, cmap='Greys')"
   ]
  },
  {
   "cell_type": "code",
   "execution_count": null,
   "metadata": {},
   "outputs": [],
   "source": []
  }
 ],
 "metadata": {
  "kernelspec": {
   "display_name": "Python 3",
   "language": "python",
   "name": "python3"
  },
  "language_info": {
   "codemirror_mode": {
    "name": "ipython",
    "version": 3
   },
   "file_extension": ".py",
   "mimetype": "text/x-python",
   "name": "python",
   "nbconvert_exporter": "python",
   "pygments_lexer": "ipython3",
   "version": "3.8.5"
  }
 },
 "nbformat": 4,
 "nbformat_minor": 4
}
